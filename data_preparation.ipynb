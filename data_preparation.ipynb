{
 "cells": [
  {
   "cell_type": "markdown",
   "metadata": {},
   "source": [
    "# Intel Image Classification \n",
    "## Classify image using Resnet model.\n",
    "### download dataset : https://www.kaggle.com/puneet6060/intel-image-classification"
   ]
  },
  {
   "cell_type": "code",
   "execution_count": 1,
   "metadata": {},
   "outputs": [
    {
     "name": "stderr",
     "output_type": "stream",
     "text": [
      "C:\\ProgramData\\Anaconda3\\lib\\site-packages\\ipykernel_launcher.py:7: UserWarning: ignore\n",
      "  import sys\n"
     ]
    }
   ],
   "source": [
    "import pandas as pd\n",
    "import numpy as np\n",
    "import matplotlib.pyplot as plt\n",
    "\n",
    "import warnings\n",
    "warnings.warn(\"ignore\")"
   ]
  },
  {
   "cell_type": "markdown",
   "metadata": {},
   "source": [
    "## 1) convert all image to array\n",
    "### 1.1) train set"
   ]
  },
  {
   "cell_type": "code",
   "execution_count": 2,
   "metadata": {},
   "outputs": [
    {
     "name": "stderr",
     "output_type": "stream",
     "text": [
      "Using TensorFlow backend.\n"
     ]
    }
   ],
   "source": [
    "from keras.preprocessing.image import load_img, img_to_array\n",
    "import os\n",
    "\n",
    "def convert(path,y):\n",
    "    array=[]\n",
    "    img_cat = []\n",
    "    for img_path in os.listdir(path):\n",
    "        img = load_img(path + img_path, target_size=(150,150))\n",
    "        img = img_to_array(img)\n",
    "        img = img/255.\n",
    "        array.append(img)\n",
    "        img_cat.append(y)\n",
    "    return np.array(array), np.array(img_cat)"
   ]
  },
  {
   "cell_type": "code",
   "execution_count": 12,
   "metadata": {},
   "outputs": [
    {
     "name": "stdout",
     "output_type": "stream",
     "text": [
      "train build (2191, 150, 150, 3) (2191,)\n"
     ]
    }
   ],
   "source": [
    "trX_build,trY_build  = convert(\"seg_train/buildings/\",0)\n",
    "print('train build', trX_build.shape, trY_build.shape) "
   ]
  },
  {
   "cell_type": "code",
   "execution_count": 13,
   "metadata": {},
   "outputs": [
    {
     "name": "stdout",
     "output_type": "stream",
     "text": [
      "train forest (2271, 150, 150, 3) (2271,)\n",
      "train glacier (2404, 150, 150, 3) (2404,)\n"
     ]
    }
   ],
   "source": [
    "trX_forest,trY_forest  = convert(\"seg_train/forest/\",1)\n",
    "trX_gla,trY_gla  = convert(\"seg_train/glacier/\",2)\n",
    "print('train forest', trX_forest.shape ,trY_forest.shape)\n",
    "print('train glacier', trX_gla.shape,trY_gla.shape)"
   ]
  },
  {
   "cell_type": "code",
   "execution_count": 14,
   "metadata": {},
   "outputs": [
    {
     "name": "stdout",
     "output_type": "stream",
     "text": [
      "train mountain (2512, 150, 150, 3) (2512,)\n",
      "train sea (2274, 150, 150, 3) (2274,)\n",
      "train street (2382, 150, 150, 3) (2382,)\n"
     ]
    }
   ],
   "source": [
    "trX_mount,trY_mount  = convert(\"seg_train/mountain/\",3)\n",
    "trX_sea,trY_sea  = convert(\"seg_train/sea/\",4)\n",
    "trX_street,trY_street  = convert(\"seg_train/street/\",5)\n",
    "print('train mountain', trX_mount.shape, trY_mount.shape)\n",
    "print('train sea',     trX_sea.shape, trY_sea.shape)\n",
    "print('train street', trX_street.shape ,trY_street.shape)"
   ]
  },
  {
   "cell_type": "code",
   "execution_count": 23,
   "metadata": {},
   "outputs": [],
   "source": [
    "trainX_combo = np.concatenate((trX_build ,trX_forest, trX_gla,trX_mount, trX_sea,trX_street), axis=0)\n",
    "trainY_combo = np.concatenate((trY_build ,trY_forest, trY_gla,trY_mount, trY_sea,trY_street), axis=0)"
   ]
  },
  {
   "cell_type": "code",
   "execution_count": 24,
   "metadata": {},
   "outputs": [
    {
     "data": {
      "text/plain": [
       "((14034, 150, 150, 3), (14034,))"
      ]
     },
     "execution_count": 24,
     "metadata": {},
     "output_type": "execute_result"
    }
   ],
   "source": [
    "trainX_combo.shape, trainY_combo.shape"
   ]
  },
  {
   "cell_type": "code",
   "execution_count": 25,
   "metadata": {},
   "outputs": [],
   "source": [
    "np.save('trainx_combo', trainX_combo)\n",
    "pd.DataFrame(trainY_combo).to_csv('trainy_combo.csv',index = False)"
   ]
  },
  {
   "cell_type": "markdown",
   "metadata": {},
   "source": [
    "### 1.2) test set"
   ]
  },
  {
   "cell_type": "code",
   "execution_count": 17,
   "metadata": {},
   "outputs": [
    {
     "name": "stdout",
     "output_type": "stream",
     "text": [
      "test build (437, 150, 150, 3) (437,)\n"
     ]
    }
   ],
   "source": [
    "teX_build,teY_build  = convert(\"seg_test/buildings/\",0)\n",
    "print('test build', teX_build.shape, teY_build.shape) "
   ]
  },
  {
   "cell_type": "code",
   "execution_count": 18,
   "metadata": {},
   "outputs": [
    {
     "name": "stdout",
     "output_type": "stream",
     "text": [
      "test forest (474, 150, 150, 3) (474,)\n",
      "test glacier (553, 150, 150, 3) (553,)\n"
     ]
    }
   ],
   "source": [
    "teX_forest,teY_forest  = convert(\"seg_test/forest/\",1)\n",
    "teX_gla,teY_gla  = convert(\"seg_test/glacier/\",2)\n",
    "print('test forest', teX_forest.shape ,teY_forest.shape)\n",
    "print('test glacier', teX_gla.shape,teY_gla.shape)"
   ]
  },
  {
   "cell_type": "code",
   "execution_count": 19,
   "metadata": {},
   "outputs": [
    {
     "name": "stdout",
     "output_type": "stream",
     "text": [
      "te mountain (525, 150, 150, 3) (525,)\n",
      "te sea (510, 150, 150, 3) (510,)\n",
      "te street (501, 150, 150, 3) (501,)\n"
     ]
    }
   ],
   "source": [
    "teX_mount,teY_mount  = convert(\"seg_test/mountain/\",3)\n",
    "teX_sea,teY_sea  = convert(\"seg_test/sea/\",4)\n",
    "teX_street,teY_street  = convert(\"seg_test/street/\",5)\n",
    "print('te mountain', teX_mount.shape, teY_mount.shape)\n",
    "print('te sea',     teX_sea.shape, teY_sea.shape)\n",
    "print('te street', teX_street.shape ,teY_street.shape)"
   ]
  },
  {
   "cell_type": "code",
   "execution_count": 26,
   "metadata": {},
   "outputs": [],
   "source": [
    "testX_combo = np.concatenate((teX_build ,teX_forest, teX_gla, teX_mount, teX_sea, teX_street), axis=0)\n",
    "testY_combo = np.concatenate((teY_build ,teY_forest, teY_gla, teY_mount, teY_sea, teY_street), axis=0)"
   ]
  },
  {
   "cell_type": "code",
   "execution_count": 27,
   "metadata": {},
   "outputs": [
    {
     "data": {
      "text/plain": [
       "((3000, 150, 150, 3), (3000,))"
      ]
     },
     "execution_count": 27,
     "metadata": {},
     "output_type": "execute_result"
    }
   ],
   "source": [
    "testX_combo.shape, testY_combo.shape"
   ]
  },
  {
   "cell_type": "code",
   "execution_count": 28,
   "metadata": {},
   "outputs": [],
   "source": [
    "np.save('testx_combo', testX_combo)\n",
    "pd.DataFrame(testY_combo).to_csv('testy_combo.csv',index = False)"
   ]
  },
  {
   "cell_type": "markdown",
   "metadata": {},
   "source": [
    "### 1.3) pred set"
   ]
  },
  {
   "cell_type": "code",
   "execution_count": 3,
   "metadata": {},
   "outputs": [
    {
     "name": "stdout",
     "output_type": "stream",
     "text": [
      "pred (7301, 150, 150, 3)\n"
     ]
    }
   ],
   "source": [
    "pred,_ = convert(\"seg_pred/\",0)\n",
    "print('pred', pred.shape)"
   ]
  },
  {
   "cell_type": "code",
   "execution_count": 4,
   "metadata": {},
   "outputs": [],
   "source": [
    "np.save('pred', pred)"
   ]
  }
 ],
 "metadata": {
  "kernelspec": {
   "display_name": "Python 3",
   "language": "python",
   "name": "python3"
  },
  "language_info": {
   "codemirror_mode": {
    "name": "ipython",
    "version": 3
   },
   "file_extension": ".py",
   "mimetype": "text/x-python",
   "name": "python",
   "nbconvert_exporter": "python",
   "pygments_lexer": "ipython3",
   "version": "3.6.4"
  }
 },
 "nbformat": 4,
 "nbformat_minor": 2
}
